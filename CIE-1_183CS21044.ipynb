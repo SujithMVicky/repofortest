{
 "cells": [
  {
   "cell_type": "code",
   "execution_count": 1,
   "id": "28a13b86",
   "metadata": {},
   "outputs": [],
   "source": [
    "import pandas as pd\n",
    "import matplotlib.pyplot as plt\n",
    "import numpy as np"
   ]
  },
  {
   "cell_type": "code",
   "execution_count": 4,
   "id": "b64bd7e9",
   "metadata": {},
   "outputs": [
    {
     "name": "stdout",
     "output_type": "stream",
     "text": [
      "   SI.NO   State/UT Name    BCG  GPY3  DPT3  Measles  Hep-B3  Full Immunized\n",
      "0      1      A&N Island   87.4  83.9  83.5     76.4    83.1            73.2\n",
      "1      2  Andhra Pradesh   97.3  72.3  89.0     89.4    68.8            65.3\n",
      "2      3           Assam   82.3  56.0  66.5     71.4    52.0            47.1\n",
      "3      4           Bihar   91.7  72.9  80.2     79.4    65.5            61.7\n",
      "4      5             Goa  100.0  92.9  94.2     96.5    85.2            88.4\n"
     ]
    }
   ],
   "source": [
    "df=pd.read_csv(\"C:/Users/vecto/Downloads/State_data.csv\")\n",
    "print(df.head())"
   ]
  },
  {
   "cell_type": "code",
   "execution_count": 5,
   "id": "e8a95baa",
   "metadata": {},
   "outputs": [
    {
     "name": "stdout",
     "output_type": "stream",
     "text": [
      "    SI.NO State/UT Name   BCG  GPY3  DPT3  Measles  Hep-B3  Full Immunized\n",
      "13     14    Tamil Nadu  94.9  82.3  84.5     85.1    68.2            69.7\n",
      "14     15     Telangana  97.4  75.4  87.9     90.6    70.6            68.1\n",
      "15     16       Tripura  82.4  70.1  71.1     69.7    54.4            54.5\n",
      "16     17   Uttarakhand  92.9  68.0  80.0     80.6    59.4            57.7\n",
      "17     18   West Bengal  97.5  87.9  92.7     92.8    86.4            84.4\n"
     ]
    }
   ],
   "source": [
    "print(df.tail())"
   ]
  },
  {
   "cell_type": "code",
   "execution_count": 6,
   "id": "bf6cd336",
   "metadata": {},
   "outputs": [
    {
     "name": "stdout",
     "output_type": "stream",
     "text": [
      "(18, 8)\n"
     ]
    }
   ],
   "source": [
    "print(df.shape)"
   ]
  },
  {
   "cell_type": "code",
   "execution_count": 7,
   "id": "f85da476",
   "metadata": {},
   "outputs": [
    {
     "name": "stdout",
     "output_type": "stream",
     "text": [
      "<class 'pandas.core.frame.DataFrame'>\n",
      "RangeIndex: 18 entries, 0 to 17\n",
      "Data columns (total 8 columns):\n",
      " #   Column          Non-Null Count  Dtype  \n",
      "---  ------          --------------  -----  \n",
      " 0   SI.NO           18 non-null     int64  \n",
      " 1   State/UT Name   18 non-null     object \n",
      " 2   BCG             18 non-null     float64\n",
      " 3   GPY3            18 non-null     float64\n",
      " 4   DPT3            18 non-null     float64\n",
      " 5   Measles         18 non-null     float64\n",
      " 6   Hep-B3          18 non-null     float64\n",
      " 7   Full Immunized  18 non-null     float64\n",
      "dtypes: float64(6), int64(1), object(1)\n",
      "memory usage: 1.3+ KB\n",
      "None\n"
     ]
    }
   ],
   "source": [
    "print(df.info())"
   ]
  },
  {
   "cell_type": "code",
   "execution_count": 8,
   "id": "769dcd7d",
   "metadata": {},
   "outputs": [
    {
     "name": "stdout",
     "output_type": "stream",
     "text": [
      "           SI.NO         BCG       GPY3       DPT3    Measles     Hep-B3  \\\n",
      "count  18.000000   18.000000  18.000000  18.000000  18.000000  18.000000   \n",
      "mean    9.500000   92.594444  76.272222  81.838889  82.805556  68.344444   \n",
      "std     5.338539    5.496359  10.364748   8.716255   8.550643  12.354814   \n",
      "min     1.000000   82.300000  56.000000  66.500000  69.700000  52.000000   \n",
      "25%     5.250000   90.300000  70.325000  75.300000  77.050000  59.025000   \n",
      "50%     9.500000   92.650000  74.950000  80.100000  81.500000  66.850000   \n",
      "75%    13.750000   97.375000  83.500000  88.725000  90.300000  79.975000   \n",
      "max    18.000000  100.000000  95.400000  96.000000  96.500000  89.400000   \n",
      "\n",
      "       Full Immunized  \n",
      "count       18.000000  \n",
      "mean        67.027778  \n",
      "std         12.583313  \n",
      "min         47.100000  \n",
      "25%         58.650000  \n",
      "50%         63.950000  \n",
      "75%         72.325000  \n",
      "max         91.300000  \n"
     ]
    }
   ],
   "source": [
    "print(df.describe())"
   ]
  },
  {
   "cell_type": "code",
   "execution_count": 9,
   "id": "87e8f376",
   "metadata": {},
   "outputs": [
    {
     "name": "stdout",
     "output_type": "stream",
     "text": [
      "Index(['SI.NO', 'State/UT Name', 'BCG', 'GPY3', 'DPT3', 'Measles', 'Hep-B3',\n",
      "       'Full Immunized'],\n",
      "      dtype='object')\n"
     ]
    }
   ],
   "source": [
    "print(df.columns)"
   ]
  },
  {
   "cell_type": "code",
   "execution_count": 20,
   "id": "853c4285",
   "metadata": {},
   "outputs": [
    {
     "name": "stderr",
     "output_type": "stream",
     "text": [
      "C:\\Users\\vecto\\AppData\\Local\\Temp\\ipykernel_10012\\3853002319.py:1: FutureWarning: The operation <function mean at 0x000001EE98A2EC00> failed on a column. If any error is raised, this will raise an exception in a future version of pandas. Drop these columns to avoid this warning.\n",
      "  pivot=pd.pivot_table(df,index=['BCG','DPT3','Measles','Hep-B3'],aggfunc=np.mean)\n"
     ]
    },
    {
     "data": {
      "text/html": [
       "<div>\n",
       "<style scoped>\n",
       "    .dataframe tbody tr th:only-of-type {\n",
       "        vertical-align: middle;\n",
       "    }\n",
       "\n",
       "    .dataframe tbody tr th {\n",
       "        vertical-align: top;\n",
       "    }\n",
       "\n",
       "    .dataframe thead th {\n",
       "        text-align: right;\n",
       "    }\n",
       "</style>\n",
       "<table border=\"1\" class=\"dataframe\">\n",
       "  <thead>\n",
       "    <tr style=\"text-align: right;\">\n",
       "      <th></th>\n",
       "      <th></th>\n",
       "      <th></th>\n",
       "      <th></th>\n",
       "      <th>Full Immunized</th>\n",
       "      <th>GPY3</th>\n",
       "      <th>SI.NO</th>\n",
       "    </tr>\n",
       "    <tr>\n",
       "      <th>BCG</th>\n",
       "      <th>DPT3</th>\n",
       "      <th>Measles</th>\n",
       "      <th>Hep-B3</th>\n",
       "      <th></th>\n",
       "      <th></th>\n",
       "      <th></th>\n",
       "    </tr>\n",
       "  </thead>\n",
       "  <tbody>\n",
       "    <tr>\n",
       "      <th>82.3</th>\n",
       "      <th>66.5</th>\n",
       "      <th>71.4</th>\n",
       "      <th>52.0</th>\n",
       "      <td>47.1</td>\n",
       "      <td>56.0</td>\n",
       "      <td>3</td>\n",
       "    </tr>\n",
       "    <tr>\n",
       "      <th>82.4</th>\n",
       "      <th>71.1</th>\n",
       "      <th>69.7</th>\n",
       "      <th>54.4</th>\n",
       "      <td>54.5</td>\n",
       "      <td>70.1</td>\n",
       "      <td>16</td>\n",
       "    </tr>\n",
       "    <tr>\n",
       "      <th>86.0</th>\n",
       "      <th>74.0</th>\n",
       "      <th>71.9</th>\n",
       "      <th>62.9</th>\n",
       "      <td>61.5</td>\n",
       "      <td>71.0</td>\n",
       "      <td>11</td>\n",
       "    </tr>\n",
       "    <tr>\n",
       "      <th>87.4</th>\n",
       "      <th>83.5</th>\n",
       "      <th>76.4</th>\n",
       "      <th>83.1</th>\n",
       "      <td>73.2</td>\n",
       "      <td>83.9</td>\n",
       "      <td>1</td>\n",
       "    </tr>\n",
       "    <tr>\n",
       "      <th>90.0</th>\n",
       "      <th>74.9</th>\n",
       "      <th>82.8</th>\n",
       "      <th>60.8</th>\n",
       "      <td>56.3</td>\n",
       "      <td>67.0</td>\n",
       "      <td>9</td>\n",
       "    </tr>\n",
       "    <tr>\n",
       "      <th>91.2</th>\n",
       "      <th>77.8</th>\n",
       "      <th>74.2</th>\n",
       "      <th>69.9</th>\n",
       "      <td>65.9</td>\n",
       "      <td>76.6</td>\n",
       "      <td>10</td>\n",
       "    </tr>\n",
       "    <tr>\n",
       "      <th>91.6</th>\n",
       "      <th>73.4</th>\n",
       "      <th>79.6</th>\n",
       "      <th>56.3</th>\n",
       "      <td>53.6</td>\n",
       "      <td>63.6</td>\n",
       "      <td>8</td>\n",
       "    </tr>\n",
       "    <tr>\n",
       "      <th>91.7</th>\n",
       "      <th>80.2</th>\n",
       "      <th>79.4</th>\n",
       "      <th>65.5</th>\n",
       "      <td>61.7</td>\n",
       "      <td>72.9</td>\n",
       "      <td>4</td>\n",
       "    </tr>\n",
       "    <tr>\n",
       "      <th>92.5</th>\n",
       "      <th>77.9</th>\n",
       "      <th>82.4</th>\n",
       "      <th>58.9</th>\n",
       "      <td>62.6</td>\n",
       "      <td>74.6</td>\n",
       "      <td>7</td>\n",
       "    </tr>\n",
       "    <tr>\n",
       "      <th>92.8</th>\n",
       "      <th>76.5</th>\n",
       "      <th>79.0</th>\n",
       "      <th>54.3</th>\n",
       "      <td>62.2</td>\n",
       "      <td>75.3</td>\n",
       "      <td>6</td>\n",
       "    </tr>\n",
       "    <tr>\n",
       "      <th>92.9</th>\n",
       "      <th>80.0</th>\n",
       "      <th>80.6</th>\n",
       "      <th>59.4</th>\n",
       "      <td>57.7</td>\n",
       "      <td>68.0</td>\n",
       "      <td>17</td>\n",
       "    </tr>\n",
       "    <tr>\n",
       "      <th>94.9</th>\n",
       "      <th>84.5</th>\n",
       "      <th>85.1</th>\n",
       "      <th>68.2</th>\n",
       "      <td>69.7</td>\n",
       "      <td>82.3</td>\n",
       "      <td>14</td>\n",
       "    </tr>\n",
       "    <tr>\n",
       "      <th>97.3</th>\n",
       "      <th>89.0</th>\n",
       "      <th>89.4</th>\n",
       "      <th>68.8</th>\n",
       "      <td>65.3</td>\n",
       "      <td>72.3</td>\n",
       "      <td>2</td>\n",
       "    </tr>\n",
       "    <tr>\n",
       "      <th>97.4</th>\n",
       "      <th>87.9</th>\n",
       "      <th>90.6</th>\n",
       "      <th>70.6</th>\n",
       "      <td>68.1</td>\n",
       "      <td>75.4</td>\n",
       "      <td>15</td>\n",
       "    </tr>\n",
       "    <tr>\n",
       "      <th>97.5</th>\n",
       "      <th>92.7</th>\n",
       "      <th>92.8</th>\n",
       "      <th>86.4</th>\n",
       "      <td>84.4</td>\n",
       "      <td>87.9</td>\n",
       "      <td>18</td>\n",
       "    </tr>\n",
       "    <tr>\n",
       "      <th>98.9</th>\n",
       "      <th>93.0</th>\n",
       "      <th>93.3</th>\n",
       "      <th>84.1</th>\n",
       "      <td>83.0</td>\n",
       "      <td>87.7</td>\n",
       "      <td>13</td>\n",
       "    </tr>\n",
       "    <tr>\n",
       "      <th>99.9</th>\n",
       "      <th>96.0</th>\n",
       "      <th>95.4</th>\n",
       "      <th>89.4</th>\n",
       "      <td>91.3</td>\n",
       "      <td>95.4</td>\n",
       "      <td>12</td>\n",
       "    </tr>\n",
       "    <tr>\n",
       "      <th>100.0</th>\n",
       "      <th>94.2</th>\n",
       "      <th>96.5</th>\n",
       "      <th>85.2</th>\n",
       "      <td>88.4</td>\n",
       "      <td>92.9</td>\n",
       "      <td>5</td>\n",
       "    </tr>\n",
       "  </tbody>\n",
       "</table>\n",
       "</div>"
      ],
      "text/plain": [
       "                           Full Immunized  GPY3  SI.NO\n",
       "BCG   DPT3 Measles Hep-B3                             \n",
       "82.3  66.5 71.4    52.0              47.1  56.0      3\n",
       "82.4  71.1 69.7    54.4              54.5  70.1     16\n",
       "86.0  74.0 71.9    62.9              61.5  71.0     11\n",
       "87.4  83.5 76.4    83.1              73.2  83.9      1\n",
       "90.0  74.9 82.8    60.8              56.3  67.0      9\n",
       "91.2  77.8 74.2    69.9              65.9  76.6     10\n",
       "91.6  73.4 79.6    56.3              53.6  63.6      8\n",
       "91.7  80.2 79.4    65.5              61.7  72.9      4\n",
       "92.5  77.9 82.4    58.9              62.6  74.6      7\n",
       "92.8  76.5 79.0    54.3              62.2  75.3      6\n",
       "92.9  80.0 80.6    59.4              57.7  68.0     17\n",
       "94.9  84.5 85.1    68.2              69.7  82.3     14\n",
       "97.3  89.0 89.4    68.8              65.3  72.3      2\n",
       "97.4  87.9 90.6    70.6              68.1  75.4     15\n",
       "97.5  92.7 92.8    86.4              84.4  87.9     18\n",
       "98.9  93.0 93.3    84.1              83.0  87.7     13\n",
       "99.9  96.0 95.4    89.4              91.3  95.4     12\n",
       "100.0 94.2 96.5    85.2              88.4  92.9      5"
      ]
     },
     "execution_count": 20,
     "metadata": {},
     "output_type": "execute_result"
    }
   ],
   "source": [
    "pivot=pd.pivot_table(df,index=['BCG','DPT3','Measles','Hep-B3'],aggfunc=np.mean)\n",
    "pivot"
   ]
  },
  {
   "cell_type": "code",
   "execution_count": 29,
   "id": "241eeb9a",
   "metadata": {},
   "outputs": [
    {
     "data": {
      "text/plain": [
       "<matplotlib.collections.PathCollection at 0x1eea6baf4d0>"
      ]
     },
     "execution_count": 29,
     "metadata": {},
     "output_type": "execute_result"
    },
    {
     "data": {
      "image/png": "[encoded data removed]",
      "text/plain": [
       "<Figure size 2000x800 with 1 Axes>"
      ]
     },
     "metadata": {},
     "output_type": "display_data"
    }
   ],
   "source": [
    "plt.figure(figsize=(20,8))\n",
    "plt.scatter(df['State/UT Name'],df['Full Immunized'])"
   ]
  },
  {
   "cell_type": "code",
   "execution_count": null,
   "id": "7aec1281",
   "metadata": {},
   "outputs": [],
   "source": []
  },
  {
   "cell_type": "code",
   "execution_count": null,
   "id": "d616218b",
   "metadata": {},
   "outputs": [],
   "source": []
  },
  {
   "cell_type": "code",
   "execution_count": null,
   "id": "40a30925",
   "metadata": {},
   "outputs": [],
   "source": []
  }
 ],
 "metadata": {
  "kernelspec": {
   "display_name": "Python 3 (ipykernel)",
   "language": "python",
   "name": "python3"
  },
  "language_info": {
   "codemirror_mode": {
    "name": "ipython",
    "version": 3
   },
   "file_extension": ".py",
   "mimetype": "text/x-python",
   "name": "python",
   "nbconvert_exporter": "python",
   "pygments_lexer": "ipython3",
   "version": "3.11.4"
  }
 },
 "nbformat": 4,
 "nbformat_minor": 5
}
